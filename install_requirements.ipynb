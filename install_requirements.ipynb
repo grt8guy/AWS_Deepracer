{
 "cells": [
  {
   "cell_type": "code",
   "execution_count": 9,
   "metadata": {},
   "outputs": [
    {
     "name": "stdout",
     "output_type": "stream",
     "text": [
      "Requirement already satisfied: matplotlib in c:\\miniconda3\\envs\\deepracer-env\\lib\\site-packages (3.9.1)\n",
      "Requirement already satisfied: contourpy>=1.0.1 in c:\\miniconda3\\envs\\deepracer-env\\lib\\site-packages (from matplotlib) (1.2.1)\n",
      "Requirement already satisfied: cycler>=0.10 in c:\\miniconda3\\envs\\deepracer-env\\lib\\site-packages (from matplotlib) (0.12.1)\n",
      "Requirement already satisfied: fonttools>=4.22.0 in c:\\miniconda3\\envs\\deepracer-env\\lib\\site-packages (from matplotlib) (4.53.1)\n",
      "Requirement already satisfied: kiwisolver>=1.3.1 in c:\\miniconda3\\envs\\deepracer-env\\lib\\site-packages (from matplotlib) (1.4.5)\n",
      "Requirement already satisfied: numpy>=1.23 in c:\\miniconda3\\envs\\deepracer-env\\lib\\site-packages (from matplotlib) (1.26.4)\n",
      "Requirement already satisfied: packaging>=20.0 in c:\\miniconda3\\envs\\deepracer-env\\lib\\site-packages (from matplotlib) (24.1)\n",
      "Requirement already satisfied: pillow>=8 in c:\\miniconda3\\envs\\deepracer-env\\lib\\site-packages (from matplotlib) (10.4.0)\n",
      "Requirement already satisfied: pyparsing>=2.3.1 in c:\\miniconda3\\envs\\deepracer-env\\lib\\site-packages (from matplotlib) (3.1.2)\n",
      "Requirement already satisfied: python-dateutil>=2.7 in c:\\miniconda3\\envs\\deepracer-env\\lib\\site-packages (from matplotlib) (2.9.0)\n",
      "Requirement already satisfied: six>=1.5 in c:\\miniconda3\\envs\\deepracer-env\\lib\\site-packages (from python-dateutil>=2.7->matplotlib) (1.16.0)\n",
      "Requirement already satisfied: nbformat in c:\\miniconda3\\envs\\deepracer-env\\lib\\site-packages (5.10.4)\n",
      "Requirement already satisfied: fastjsonschema>=2.15 in c:\\miniconda3\\envs\\deepracer-env\\lib\\site-packages (from nbformat) (2.20.0)\n",
      "Requirement already satisfied: jsonschema>=2.6 in c:\\miniconda3\\envs\\deepracer-env\\lib\\site-packages (from nbformat) (4.23.0)\n",
      "Requirement already satisfied: jupyter-core!=5.0.*,>=4.12 in c:\\miniconda3\\envs\\deepracer-env\\lib\\site-packages (from nbformat) (5.7.2)\n",
      "Requirement already satisfied: traitlets>=5.1 in c:\\miniconda3\\envs\\deepracer-env\\lib\\site-packages (from nbformat) (5.14.3)\n",
      "Requirement already satisfied: attrs>=22.2.0 in c:\\miniconda3\\envs\\deepracer-env\\lib\\site-packages (from jsonschema>=2.6->nbformat) (23.2.0)\n",
      "Requirement already satisfied: jsonschema-specifications>=2023.03.6 in c:\\miniconda3\\envs\\deepracer-env\\lib\\site-packages (from jsonschema>=2.6->nbformat) (2023.12.1)\n",
      "Requirement already satisfied: referencing>=0.28.4 in c:\\miniconda3\\envs\\deepracer-env\\lib\\site-packages (from jsonschema>=2.6->nbformat) (0.35.1)\n",
      "Requirement already satisfied: rpds-py>=0.7.1 in c:\\miniconda3\\envs\\deepracer-env\\lib\\site-packages (from jsonschema>=2.6->nbformat) (0.19.1)\n",
      "Requirement already satisfied: platformdirs>=2.5 in c:\\miniconda3\\envs\\deepracer-env\\lib\\site-packages (from jupyter-core!=5.0.*,>=4.12->nbformat) (4.2.2)\n",
      "Requirement already satisfied: pywin32>=300 in c:\\miniconda3\\envs\\deepracer-env\\lib\\site-packages (from jupyter-core!=5.0.*,>=4.12->nbformat) (306)\n",
      "Requirement already satisfied: plotly in c:\\miniconda3\\envs\\deepracer-env\\lib\\site-packages (5.23.0)\n",
      "Requirement already satisfied: tenacity>=6.2.0 in c:\\miniconda3\\envs\\deepracer-env\\lib\\site-packages (from plotly) (8.5.0)\n",
      "Requirement already satisfied: packaging in c:\\miniconda3\\envs\\deepracer-env\\lib\\site-packages (from plotly) (24.1)\n",
      "Requirement already satisfied: shapely in c:\\miniconda3\\envs\\deepracer-env\\lib\\site-packages (2.0.5)\n",
      "Requirement already satisfied: numpy<3,>=1.14 in c:\\miniconda3\\envs\\deepracer-env\\lib\\site-packages (from shapely) (1.26.4)\n",
      "Requirement already satisfied: tqdm in c:\\miniconda3\\envs\\deepracer-env\\lib\\site-packages (4.66.4)\n",
      "Requirement already satisfied: colorama in c:\\miniconda3\\envs\\deepracer-env\\lib\\site-packages (from tqdm) (0.4.6)\n",
      "Requirement already satisfied: opencv-python in c:\\miniconda3\\envs\\deepracer-env\\lib\\site-packages (4.10.0.84)\n",
      "Requirement already satisfied: numpy>=1.21.2 in c:\\miniconda3\\envs\\deepracer-env\\lib\\site-packages (from opencv-python) (1.26.4)\n",
      "Requirement already satisfied: scikit-learn in c:\\miniconda3\\envs\\deepracer-env\\lib\\site-packages (1.5.1)\n",
      "Requirement already satisfied: numpy>=1.19.5 in c:\\miniconda3\\envs\\deepracer-env\\lib\\site-packages (from scikit-learn) (1.26.4)\n",
      "Requirement already satisfied: scipy>=1.6.0 in c:\\miniconda3\\envs\\deepracer-env\\lib\\site-packages (from scikit-learn) (1.14.0)\n",
      "Requirement already satisfied: joblib>=1.2.0 in c:\\miniconda3\\envs\\deepracer-env\\lib\\site-packages (from scikit-learn) (1.4.2)\n",
      "Requirement already satisfied: threadpoolctl>=3.1.0 in c:\\miniconda3\\envs\\deepracer-env\\lib\\site-packages (from scikit-learn) (3.5.0)\n",
      "Requirement already satisfied: pandas in c:\\miniconda3\\envs\\deepracer-env\\lib\\site-packages (2.2.2)\n",
      "Requirement already satisfied: numpy>=1.22.4 in c:\\miniconda3\\envs\\deepracer-env\\lib\\site-packages (from pandas) (1.26.4)\n",
      "Requirement already satisfied: python-dateutil>=2.8.2 in c:\\miniconda3\\envs\\deepracer-env\\lib\\site-packages (from pandas) (2.9.0)\n",
      "Requirement already satisfied: pytz>=2020.1 in c:\\miniconda3\\envs\\deepracer-env\\lib\\site-packages (from pandas) (2024.1)\n",
      "Requirement already satisfied: tzdata>=2022.7 in c:\\miniconda3\\envs\\deepracer-env\\lib\\site-packages (from pandas) (2024.1)\n",
      "Requirement already satisfied: six>=1.5 in c:\\miniconda3\\envs\\deepracer-env\\lib\\site-packages (from python-dateutil>=2.8.2->pandas) (1.16.0)\n",
      "Requirement already satisfied: tensorflow-intel in c:\\miniconda3\\envs\\deepracer-env\\lib\\site-packages (2.17.0)\n",
      "Requirement already satisfied: absl-py>=1.0.0 in c:\\miniconda3\\envs\\deepracer-env\\lib\\site-packages (from tensorflow-intel) (2.1.0)\n",
      "Requirement already satisfied: astunparse>=1.6.0 in c:\\miniconda3\\envs\\deepracer-env\\lib\\site-packages (from tensorflow-intel) (1.6.3)\n",
      "Requirement already satisfied: flatbuffers>=24.3.25 in c:\\miniconda3\\envs\\deepracer-env\\lib\\site-packages (from tensorflow-intel) (24.3.25)\n",
      "Requirement already satisfied: gast!=0.5.0,!=0.5.1,!=0.5.2,>=0.2.1 in c:\\miniconda3\\envs\\deepracer-env\\lib\\site-packages (from tensorflow-intel) (0.6.0)\n",
      "Requirement already satisfied: google-pasta>=0.1.1 in c:\\miniconda3\\envs\\deepracer-env\\lib\\site-packages (from tensorflow-intel) (0.2.0)\n",
      "Requirement already satisfied: h5py>=3.10.0 in c:\\miniconda3\\envs\\deepracer-env\\lib\\site-packages (from tensorflow-intel) (3.11.0)\n",
      "Requirement already satisfied: libclang>=13.0.0 in c:\\miniconda3\\envs\\deepracer-env\\lib\\site-packages (from tensorflow-intel) (18.1.1)\n",
      "Requirement already satisfied: ml-dtypes<0.5.0,>=0.3.1 in c:\\miniconda3\\envs\\deepracer-env\\lib\\site-packages (from tensorflow-intel) (0.4.0)\n",
      "Requirement already satisfied: opt-einsum>=2.3.2 in c:\\miniconda3\\envs\\deepracer-env\\lib\\site-packages (from tensorflow-intel) (3.3.0)\n",
      "Requirement already satisfied: packaging in c:\\miniconda3\\envs\\deepracer-env\\lib\\site-packages (from tensorflow-intel) (24.1)\n",
      "Requirement already satisfied: protobuf!=4.21.0,!=4.21.1,!=4.21.2,!=4.21.3,!=4.21.4,!=4.21.5,<5.0.0dev,>=3.20.3 in c:\\miniconda3\\envs\\deepracer-env\\lib\\site-packages (from tensorflow-intel) (4.25.4)\n",
      "Requirement already satisfied: requests<3,>=2.21.0 in c:\\miniconda3\\envs\\deepracer-env\\lib\\site-packages (from tensorflow-intel) (2.32.3)\n",
      "Requirement already satisfied: setuptools in c:\\miniconda3\\envs\\deepracer-env\\lib\\site-packages (from tensorflow-intel) (69.5.1)\n",
      "Requirement already satisfied: six>=1.12.0 in c:\\miniconda3\\envs\\deepracer-env\\lib\\site-packages (from tensorflow-intel) (1.16.0)\n",
      "Requirement already satisfied: termcolor>=1.1.0 in c:\\miniconda3\\envs\\deepracer-env\\lib\\site-packages (from tensorflow-intel) (2.4.0)\n",
      "Requirement already satisfied: typing-extensions>=3.6.6 in c:\\miniconda3\\envs\\deepracer-env\\lib\\site-packages (from tensorflow-intel) (4.12.2)\n",
      "Requirement already satisfied: wrapt>=1.11.0 in c:\\miniconda3\\envs\\deepracer-env\\lib\\site-packages (from tensorflow-intel) (1.16.0)\n",
      "Requirement already satisfied: grpcio<2.0,>=1.24.3 in c:\\miniconda3\\envs\\deepracer-env\\lib\\site-packages (from tensorflow-intel) (1.65.1)\n",
      "Requirement already satisfied: tensorboard<2.18,>=2.17 in c:\\miniconda3\\envs\\deepracer-env\\lib\\site-packages (from tensorflow-intel) (2.17.0)\n",
      "Requirement already satisfied: keras>=3.2.0 in c:\\miniconda3\\envs\\deepracer-env\\lib\\site-packages (from tensorflow-intel) (3.4.1)\n",
      "Requirement already satisfied: tensorflow-io-gcs-filesystem>=0.23.1 in c:\\miniconda3\\envs\\deepracer-env\\lib\\site-packages (from tensorflow-intel) (0.31.0)\n",
      "Requirement already satisfied: numpy<2.0.0,>=1.23.5 in c:\\miniconda3\\envs\\deepracer-env\\lib\\site-packages (from tensorflow-intel) (1.26.4)\n",
      "Requirement already satisfied: wheel<1.0,>=0.23.0 in c:\\miniconda3\\envs\\deepracer-env\\lib\\site-packages (from astunparse>=1.6.0->tensorflow-intel) (0.43.0)\n",
      "Requirement already satisfied: rich in c:\\miniconda3\\envs\\deepracer-env\\lib\\site-packages (from keras>=3.2.0->tensorflow-intel) (13.7.1)\n",
      "Requirement already satisfied: namex in c:\\miniconda3\\envs\\deepracer-env\\lib\\site-packages (from keras>=3.2.0->tensorflow-intel) (0.0.8)\n",
      "Requirement already satisfied: optree in c:\\miniconda3\\envs\\deepracer-env\\lib\\site-packages (from keras>=3.2.0->tensorflow-intel) (0.12.1)\n",
      "Requirement already satisfied: charset-normalizer<4,>=2 in c:\\miniconda3\\envs\\deepracer-env\\lib\\site-packages (from requests<3,>=2.21.0->tensorflow-intel) (3.3.2)\n",
      "Requirement already satisfied: idna<4,>=2.5 in c:\\miniconda3\\envs\\deepracer-env\\lib\\site-packages (from requests<3,>=2.21.0->tensorflow-intel) (3.7)\n",
      "Requirement already satisfied: urllib3<3,>=1.21.1 in c:\\miniconda3\\envs\\deepracer-env\\lib\\site-packages (from requests<3,>=2.21.0->tensorflow-intel) (2.2.2)\n",
      "Requirement already satisfied: certifi>=2017.4.17 in c:\\miniconda3\\envs\\deepracer-env\\lib\\site-packages (from requests<3,>=2.21.0->tensorflow-intel) (2024.7.4)\n",
      "Requirement already satisfied: markdown>=2.6.8 in c:\\miniconda3\\envs\\deepracer-env\\lib\\site-packages (from tensorboard<2.18,>=2.17->tensorflow-intel) (3.6)\n",
      "Requirement already satisfied: tensorboard-data-server<0.8.0,>=0.7.0 in c:\\miniconda3\\envs\\deepracer-env\\lib\\site-packages (from tensorboard<2.18,>=2.17->tensorflow-intel) (0.7.2)\n",
      "Requirement already satisfied: werkzeug>=1.0.1 in c:\\miniconda3\\envs\\deepracer-env\\lib\\site-packages (from tensorboard<2.18,>=2.17->tensorflow-intel) (3.0.3)\n",
      "Requirement already satisfied: MarkupSafe>=2.1.1 in c:\\miniconda3\\envs\\deepracer-env\\lib\\site-packages (from werkzeug>=1.0.1->tensorboard<2.18,>=2.17->tensorflow-intel) (2.1.5)\n",
      "Requirement already satisfied: markdown-it-py>=2.2.0 in c:\\miniconda3\\envs\\deepracer-env\\lib\\site-packages (from rich->keras>=3.2.0->tensorflow-intel) (3.0.0)\n",
      "Requirement already satisfied: pygments<3.0.0,>=2.13.0 in c:\\miniconda3\\envs\\deepracer-env\\lib\\site-packages (from rich->keras>=3.2.0->tensorflow-intel) (2.18.0)\n",
      "Requirement already satisfied: mdurl~=0.1 in c:\\miniconda3\\envs\\deepracer-env\\lib\\site-packages (from markdown-it-py>=2.2.0->rich->keras>=3.2.0->tensorflow-intel) (0.1.2)\n"
     ]
    },
    {
     "name": "stderr",
     "output_type": "stream",
     "text": [
      "The system cannot find the file specified.\n"
     ]
    },
    {
     "name": "stdout",
     "output_type": "stream",
     "text": [
      "Collecting https://pypi.anaconda.org/intel/simple\n",
      "  Downloading https://pypi.anaconda.org/intel/simple\n",
      "     - 0 bytes ? 0:00:00\n",
      "     - 2.2 kB ? 0:00:00\n"
     ]
    },
    {
     "name": "stderr",
     "output_type": "stream",
     "text": [
      "  WARNING: Cache entry deserialization failed, entry ignored\n",
      "  WARNING: Cache entry deserialization failed, entry ignored\n",
      "  ERROR: Cannot unpack file C:\\Users\\braunsdojw\\AppData\\Local\\Temp\\1\\pip-unpack-ucqxjgrr\\simple (downloaded from C:\\Users\\braunsdojw\\AppData\\Local\\Temp\\1\\pip-req-build-a44m38hw, content-type: text/html; charset=utf-8); cannot detect archive format\n",
      "ERROR: Cannot determine archive format of C:\\Users\\braunsdojw\\AppData\\Local\\Temp\\1\\pip-req-build-a44m38hw\n"
     ]
    },
    {
     "name": "stdout",
     "output_type": "stream",
     "text": [
      "Channels:\n",
      " - conda-forge\n",
      " - defaults\n",
      "Platform: win-64\n",
      "Collecting package metadata (repodata.json): ...working... done\n",
      "Solving environment: ...working... done\n",
      "\n",
      "# All requested packages already installed.\n",
      "\n"
     ]
    }
   ],
   "source": [
    "# CMD(mac)/CTRL(windows/linux)+Shift+P, Select Interpreter, Select deepracer-env\n",
    "# upper right corner, select deepracer-env as the kernal\n",
    "\n",
    "# Run this cell, when prompted to install ipykernel, click yes.\n",
    "\n",
    "!pip install matplotlib --no-cache\n",
    "!pip install nbformat --no-cache\n",
    "!pip install plotly --no-cache\n",
    "!pip install shapely --no-cache\n",
    "!pip install tqdm --no-cache\n",
    "!pip install opencv-python --no-cache\n",
    "!pip install scikit-learn --no-cache\n",
    "!pip install pandas --no-cache\n",
    "\n",
    "import platform\n",
    "if 'Intel' in platform.processor():\n",
    "    !pip install tensorflow-intel\n",
    "    !pip install https://pypi.anaconda.org/intel/simple numpy<2\n",
    "    !pip install https://pypi.anaconda.org/intel/simple scipy\n",
    "    !conda install scikit-learn-intelex -y -c conda-forge\n",
    "else:\n",
    "    %pip install tensorflow --no-cache\n",
    "    %pip install numpy<2 --no-cache\n",
    "    %pip install scipy --no-cache\n",
    "\n",
    "# If tensorflow gives you trouble, run the following two lines.\n",
    "# !pip uninstall tensorflow -y\n",
    "# !pip install tensorflow\n",
    "\n",
    "# If sklearnex gives you trouble, run the following line:\n",
    "# !conda uninstall scikit-learn-intelex -y\n",
    "# and delete the following commands from every file:\n",
    "# if 'Intel' in platform.processor()\n",
    "# from sklearnex import patch_sklearn\n",
    "# patch_sklearn()"
   ]
  },
  {
   "cell_type": "code",
   "execution_count": 7,
   "metadata": {},
   "outputs": [
    {
     "name": "stderr",
     "output_type": "stream",
     "text": [
      "Intel(R) Extension for Scikit-learn* enabled (https://github.com/intel/scikit-learn-intelex)\n"
     ]
    }
   ],
   "source": [
    "# Test all imports\n",
    "import ipykernel\n",
    "import matplotlib\n",
    "import plotly\n",
    "import shapely\n",
    "import tqdm\n",
    "import cv2\n",
    "import sklearn\n",
    "import pandas as pd\n",
    "\n",
    "import tensorflow as tf\n",
    "import numpy as np\n",
    "import scipy\n",
    "    \n",
    "if 'Intel' in platform.processor():\n",
    "    from sklearnex import patch_sklearn\n",
    "    patch_sklearn()"
   ]
  }
 ],
 "metadata": {
  "kernelspec": {
   "display_name": "deepracer-env",
   "language": "python",
   "name": "python3"
  },
  "language_info": {
   "codemirror_mode": {
    "name": "ipython",
    "version": 3
   },
   "file_extension": ".py",
   "mimetype": "text/x-python",
   "name": "python",
   "nbconvert_exporter": "python",
   "pygments_lexer": "ipython3",
   "version": "3.10.14"
  }
 },
 "nbformat": 4,
 "nbformat_minor": 2
}
